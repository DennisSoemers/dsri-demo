{
 "cells": [
  {
   "cell_type": "markdown",
   "metadata": {},
   "source": [
    "Using the pyOxigraph library to access a local Oxigraph database from its folder:"
   ]
  },
  {
   "cell_type": "code",
   "execution_count": null,
   "metadata": {},
   "outputs": [],
   "source": [
    "from pyoxigraph import *\n",
    "\n",
    "# store = MemoryStore()\n",
    "store = SledStore('oxigraph_data')\n",
    "store.add(Quad(NamedNode('http://example.com3'), NamedNode('http://example.com/p3'), Literal('3'), NamedNode('http://example.com/g')))\n",
    "print(str(store))\n"
   ]
  },
  {
   "cell_type": "markdown",
   "metadata": {},
   "source": [
    "Using oxrdflib which allow to manipulate an Oxigraph database with RDFLib:"
   ]
  },
  {
   "cell_type": "code",
   "execution_count": null,
   "metadata": {},
   "outputs": [],
   "source": [
    "from rdflib import ConjunctiveGraph\n",
    "\n",
    "g = rdflib.Graph(store=\"OxSled\")\n",
    "g.open(\"oxigraph_data\")\n",
    "\n",
    "print(len(g))\n",
    "print(g.serialize(format='ttl'))\n"
   ]
  }
 ],
 "metadata": {
  "language_info": {
   "name": "python"
  },
  "orig_nbformat": 4
 },
 "nbformat": 4,
 "nbformat_minor": 2
}
