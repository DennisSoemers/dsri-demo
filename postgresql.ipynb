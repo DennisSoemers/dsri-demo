{
 "cells": [
  {
   "cell_type": "markdown",
   "id": "moving-short",
   "metadata": {},
   "source": [
    "## Postgresql connection with Python"
   ]
  },
  {
   "cell_type": "code",
   "execution_count": null,
   "id": "mediterranean-stretch",
   "metadata": {},
   "outputs": [],
   "source": [
    "#!sudo apt install python3-dev libpq-dev -y\n",
    "#!pip install -r requirements.txt"
   ]
  },
  {
   "cell_type": "code",
   "execution_count": null,
   "id": "fewer-acceptance",
   "metadata": {},
   "outputs": [],
   "source": [
    "import psycopg2\n",
    "#https://www.psycopg.org/docs/usage.html"
   ]
  },
  {
   "cell_type": "code",
   "execution_count": null,
   "id": "atmospheric-fifty",
   "metadata": {},
   "outputs": [],
   "source": [
    "hostname = 'postgresql-caselawdb'\n",
    "username = 'admin'\n",
    "password = '1234db'\n",
    "database = 'caselawdb'\n",
    "#psql -h postgresql-caselawdb -U admin caselawdb"
   ]
  },
  {
   "cell_type": "code",
   "execution_count": null,
   "id": "christian-murder",
   "metadata": {},
   "outputs": [],
   "source": [
    "conn = psycopg2.connect(host=hostname, user=username, password=password, dbname=database)\n",
    "cursor = conn.cursor()"
   ]
  },
  {
   "cell_type": "code",
   "execution_count": null,
   "id": "failing-period",
   "metadata": {},
   "outputs": [],
   "source": [
    "cursor.execute(\"\"\"CREATE TABLE \n",
    "    sample(sample_id INT PRIMARY KEY, data VARCHAR(255) NOT NULL)\n",
    "    ;\"\"\")"
   ]
  },
  {
   "cell_type": "code",
   "execution_count": null,
   "id": "weird-spine",
   "metadata": {},
   "outputs": [],
   "source": [
    "cursor.execute(\"\"\"INSERT INTO sample(sample_id, data)\n",
    "    VALUES(1, 'example 1')\n",
    "    ;\"\"\")"
   ]
  },
  {
   "cell_type": "code",
   "execution_count": null,
   "id": "sunrise-cancellation",
   "metadata": {},
   "outputs": [],
   "source": [
    "cursor.execute(\"\"\"INSERT INTO sample(sample_id, data)\n",
    "    VALUES(2, 'example 2')\n",
    "    ;\"\"\")"
   ]
  },
  {
   "cell_type": "code",
   "execution_count": null,
   "id": "multiple-tennis",
   "metadata": {},
   "outputs": [],
   "source": [
    "cursor.execute(\"\"\"SELECT sample_id, data FROM sample;\"\"\")\n",
    "records = cursor.fetchall()"
   ]
  },
  {
   "cell_type": "code",
   "execution_count": null,
   "id": "pleasant-collins",
   "metadata": {},
   "outputs": [],
   "source": [
    "for i in records:\n",
    "    print(i)"
   ]
  },
  {
   "cell_type": "code",
   "execution_count": null,
   "id": "higher-metro",
   "metadata": {},
   "outputs": [],
   "source": []
  }
 ],
 "metadata": {
  "kernelspec": {
   "display_name": "Python 3",
   "language": "python",
   "name": "python3"
  },
  "language_info": {
   "codemirror_mode": {
    "name": "ipython",
    "version": 3
   },
   "file_extension": ".py",
   "mimetype": "text/x-python",
   "name": "python",
   "nbconvert_exporter": "python",
   "pygments_lexer": "ipython3",
   "version": "3.8.8"
  }
 },
 "nbformat": 4,
 "nbformat_minor": 5
}