{
 "cells": [
  {
   "cell_type": "markdown",
   "id": "moving-short",
   "metadata": {},
   "source": [
    "## Use a SQL database for clinical data 🧪\n",
    "\n",
    "Demo to quickly load 400k+ drug-disease associations in a PostgreSQL database on the DSRI with Python, and pandas.\n",
    "\n",
    "Install the required dependencies in the container before running this notebook:\n",
    "\n",
    "```bash\n",
    "mamba install -y psycopg2\n",
    "```"
   ]
  },
  {
   "cell_type": "code",
   "execution_count": 1,
   "id": "mediterranean-stretch",
   "metadata": {},
   "outputs": [
    {
     "name": "stderr",
     "output_type": "stream",
     "text": [
      "/home/vemonet/.local/lib/python3.6/site-packages/psycopg2/__init__.py:144: UserWarning: The psycopg2 wheel package will be renamed from release 2.8; in order to keep installing from binary please use \"pip install psycopg2-binary\" instead. For details see: <http://initd.org/psycopg/docs/install.html#binary-install-from-pypi>.\n",
      "  \"\"\")\n"
     ]
    }
   ],
   "source": [
    "import psycopg2\n",
    "import pandas as pd "
   ]
  },
  {
   "cell_type": "markdown",
   "metadata": {},
   "source": [
    "## Download the data\n",
    "\n",
    "From http://snap.stanford.edu/biodata/datasets/10004/10004-DCh-Miner.html using Pandas. We also add `DRUGBANK:` at the start of the Chemical ID to have valid CURIEs (namespace + identifier)"
   ]
  },
  {
   "cell_type": "code",
   "execution_count": 2,
   "metadata": {},
   "outputs": [
    {
     "name": "stdout",
     "output_type": "stream",
     "text": [
      "       # Disease(MESH)          Chemical\n",
      "0         MESH:D005923  DRUGBANK:DB00564\n",
      "1         MESH:D009503  DRUGBANK:DB01072\n",
      "2         MESH:D016115  DRUGBANK:DB01759\n",
      "3         MESH:D018476  DRUGBANK:DB00451\n",
      "4         MESH:C567059  DRUGBANK:DB00641\n",
      "...                ...               ...\n",
      "466652    MESH:C565545  DRUGBANK:DB00482\n",
      "466653    MESH:D009164  DRUGBANK:DB00977\n",
      "466654    MESH:D010518  DRUGBANK:DB04216\n",
      "466655    MESH:D002653  DRUGBANK:DB02701\n",
      "466656    MESH:D013119  DRUGBANK:DB04465\n",
      "\n",
      "[466657 rows x 2 columns]\n"
     ]
    }
   ],
   "source": [
    "data = pd.read_csv('https://snap.stanford.edu/biodata/datasets/10004/files/DCh-Miner_miner-disease-chemical.tsv.gz', sep='\\t', header=0)\n",
    "data[\"Chemical\"] = data[\"Chemical\"].apply (lambda row: 'DRUGBANK:' + row)\n",
    "print(data)\n",
    "data.to_csv('mined-disease-chemical-associations.csv', index=False, header=False)"
   ]
  },
  {
   "cell_type": "markdown",
   "metadata": {},
   "source": [
    "## Load the data in the database\n",
    "\n",
    "Connect to the PostgreSQL database, and create the table for drug-disease associations in the default database selected by postgres\n",
    "\n",
    "PostgreSQL client docs: https://www.psycopg.org/docs/usage.html\n",
    "\n",
    "You can try it locally with docker (you will need to use `host='localhost',`)\n",
    "\n",
    "```\n",
    "docker run -it --rm -p 5432:5432 -e POSTGRES_USER=postgres -e POSTGRES_PASSWORD=favdbpass -e POSTGRES_DB=sampledb postgres\n",
    "```"
   ]
  },
  {
   "cell_type": "code",
   "execution_count": 3,
   "id": "atmospheric-fifty",
   "metadata": {},
   "outputs": [],
   "source": [
    "conn = psycopg2.connect(\n",
    "   host='postgresql-demo',\n",
    "   # host='localhost',\n",
    "   # dbname='sampledb',\n",
    "   user='postgres',\n",
    "   password='favdbpass')\n",
    "cursor = conn.cursor()\n",
    "cursor.execute(\"\"\"CREATE TABLE associations(\n",
    "   disease_id VARCHAR(255),\n",
    "   drug_id VARCHAR(255),\n",
    "   PRIMARY KEY (disease_id, drug_id)\n",
    ");\"\"\")"
   ]
  },
  {
   "cell_type": "markdown",
   "metadata": {},
   "source": [
    "Load the CSV file in the database `associations` table:"
   ]
  },
  {
   "cell_type": "code",
   "execution_count": 4,
   "metadata": {},
   "outputs": [],
   "source": [
    "f = open(r'mined-disease-chemical-associations.csv', 'r')\n",
    "cursor.copy_from(f, 'associations', sep=',')\n",
    "f.close()"
   ]
  },
  {
   "cell_type": "code",
   "execution_count": 5,
   "id": "weird-spine",
   "metadata": {},
   "outputs": [],
   "source": [
    "## Example to load a single row:\n",
    "# cursor.execute(\"\"\"INSERT INTO associations(disease_id, drug_id)\n",
    "#     VALUES('MESH:D001523', 'DB00235')\n",
    "# ;\"\"\")"
   ]
  },
  {
   "cell_type": "markdown",
   "metadata": {},
   "source": [
    "## Query the database\n",
    "\n",
    "You can now run a `SELECT` query:"
   ]
  },
  {
   "cell_type": "code",
   "execution_count": 6,
   "id": "multiple-tennis",
   "metadata": {
    "tags": []
   },
   "outputs": [
    {
     "name": "stdout",
     "output_type": "stream",
     "text": [
      "Number of associations in the database:\n",
      "(466657,)\n",
      "\n",
      "Sample of associations in the database:\n",
      "('MESH:D005923', 'DRUGBANK:DB00564')\n",
      "('MESH:D009503', 'DRUGBANK:DB01072')\n",
      "('MESH:D016115', 'DRUGBANK:DB01759')\n"
     ]
    }
   ],
   "source": [
    "print('Number of associations in the database:')\n",
    "cursor.execute('SELECT COUNT(*) FROM associations;')\n",
    "records = cursor.fetchall()\n",
    "for i in records:\n",
    "    print(i)\n",
    "print('\\nSample of associations in the database:')\n",
    "cursor.execute('SELECT disease_id, drug_id FROM associations LIMIT 3;')\n",
    "records = cursor.fetchall()\n",
    "for i in records:\n",
    "    print(i)"
   ]
  },
  {
   "cell_type": "markdown",
   "metadata": {},
   "source": [
    "## What's next?\n",
    "\n",
    "* You can also connect to the PostgreSQL database using the terminal:\n",
    "\n",
    "    ```\n",
    "    sudo apt install postgresql\n",
    "    psql -h postgresql-demo -U postgres\n",
    "    ```\n",
    "* Setup a [pgAdmin](https://www.pgadmin.org/docs/pgadmin4/latest/container_deployment.html) user interface to manage the database\n",
    "* Take a look into visualization tools to explore your database, such as Apache Superset."
   ]
  }
 ],
 "metadata": {
  "kernelspec": {
   "display_name": "Python 3",
   "language": "python",
   "name": "python3"
  },
  "language_info": {
   "codemirror_mode": {
    "name": "ipython",
    "version": 3
   },
   "file_extension": ".py",
   "mimetype": "text/x-python",
   "name": "python",
   "nbconvert_exporter": "python",
   "pygments_lexer": "ipython3",
   "version": "3.6.9-final"
  }
 },
 "nbformat": 4,
 "nbformat_minor": 5
}
