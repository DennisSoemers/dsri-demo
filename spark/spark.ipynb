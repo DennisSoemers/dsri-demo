{
 "cells": [
  {
   "cell_type": "markdown",
   "id": "moving-short",
   "metadata": {},
   "source": [
    "## Use a Spark cluster ✨\n",
    "\n",
    "https://opendatahub.io/docs/getting-started/basic-tutorial.html"
   ]
  },
  {
   "cell_type": "code",
   "execution_count": 1,
   "id": "mediterranean-stretch",
   "metadata": {},
   "outputs": [
    {
     "name": "stderr",
     "output_type": "stream",
     "text": [
      "/home/vemonet/.local/lib/python3.6/site-packages/psycopg2/__init__.py:144: UserWarning: The psycopg2 wheel package will be renamed from release 2.8; in order to keep installing from binary please use \"pip install psycopg2-binary\" instead. For details see: <http://initd.org/psycopg/docs/install.html#binary-install-from-pypi>.\n",
      "  \"\"\")\n"
     ]
    }
   ],
   "source": [
    "from pyspark.sql import SparkSession, SQLContext\n",
    "import os\n",
    "import socket\n",
    "\n",
    "# create a spark session\n",
    "print(os.environ['SPARK_CLUSTER'])\n",
    "spark_cluster_url = f\"spark://{os.environ['SPARK_CLUSTER']}:7077\"\n",
    "spark = SparkSession.builder.master(spark_cluster_url).getOrCreate()\n",
    "\n",
    "# test your spark connection\n",
    "spark.range(5, numPartitions=5).rdd.map(lambda x: socket.gethostname()).distinct().collect()"
   ]
  },
  {
   "cell_type": "code",
   "execution_count": null,
   "id": "5d706161",
   "metadata": {},
   "outputs": [],
   "source": [
    "from pyspark.sql import SparkSession\n",
    "# Compute Pi, example provided by Radanalytics Spark Operator\n",
    "spark = SparkSession.builder.master(\"spark://spark-cluster:7077\").getOrCreate()\n",
    "scale = 1\n",
    "n = 100000 * scale\n",
    "print(\"def f\")\n",
    "\n",
    "def f(_):\n",
    "    from random import random\n",
    "    x = random()\n",
    "    y = random()\n",
    "    return 1 if x ** 2 + y ** 2 <= 1 else 0\n",
    "print(\"start spark\")\n",
    "count = spark.sparkContext.parallelize(\n",
    "    range(1, n + 1), scale).map(f).reduce(lambda x, y: x + y)\n",
    "print(\"end spark\")\n",
    "spark.stop()\n",
    "pi = 4.0 * count / n\n",
    "print(pi)"
   ]
  },
  {
   "cell_type": "code",
   "execution_count": null,
   "id": "70d39b2b",
   "metadata": {},
   "outputs": [],
   "source": [
    "from pyspark.sql import SparkSession\n",
    "from datetime import datetime, date\n",
    "import pandas as pd\n",
    "from pyspark.sql import Row\n",
    "\n",
    "# Try working with a DataFrame\n",
    "\n",
    "spark_cluster_url = \"spark://spark-cluster:7077\"\n",
    "spark = SparkSession.builder.master(spark_cluster_url).getOrCreate()\n",
    "df = spark.createDataFrame([\n",
    "    Row(a=1, b=2., c='string1', d=date(2000, 1, 1), e=datetime(2000, 1, 1, 12, 0)),\n",
    "    Row(a=2, b=3., c='string2', d=date(2000, 2, 1), e=datetime(2000, 1, 2, 12, 0)),\n",
    "    Row(a=4, b=5., c='string3', d=date(2000, 3, 1), e=datetime(2000, 1, 3, 12, 0))\n",
    "])\n",
    "df.collect()"
   ]
  }
 ],
 "metadata": {
  "kernelspec": {
   "display_name": "Python 3",
   "language": "python",
   "name": "python3"
  },
  "language_info": {
   "codemirror_mode": {
    "name": "ipython",
    "version": 3
   },
   "file_extension": ".py",
   "mimetype": "text/x-python",
   "name": "python",
   "nbconvert_exporter": "python",
   "pygments_lexer": "ipython3",
   "version": "3.6.9-final"
  }
 },
 "nbformat": 4,
 "nbformat_minor": 5
}
