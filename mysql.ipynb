{
 "cells": [
  {
   "cell_type": "markdown",
   "id": "moving-short",
   "metadata": {},
   "source": [
    "## Use a SQL database for clinical data 🧪\n",
    "\n",
    "Demo to quickly load 400k+ drug-disease associations in a MySQL database on the DSRI with Python, and pandas."
   ]
  },
  {
   "cell_type": "code",
   "execution_count": 1,
   "id": "mediterranean-stretch",
   "metadata": {},
   "outputs": [
    {
     "name": "stderr",
     "output_type": "stream",
     "text": [
      "/home/vemonet/.local/lib/python3.6/site-packages/psycopg2/__init__.py:144: UserWarning: The psycopg2 wheel package will be renamed from release 2.8; in order to keep installing from binary please use \"pip install psycopg2-binary\" instead. For details see: <http://initd.org/psycopg/docs/install.html#binary-install-from-pypi>.\n",
      "  \"\"\")\n"
     ]
    }
   ],
   "source": [
    "# !pip install -r requirements.txt\n",
    "import mysql.connector as mysql\n",
    "import pandas as pd "
   ]
  },
  {
   "cell_type": "markdown",
   "metadata": {},
   "source": [
    "## Download the data\n",
    "\n",
    "From http://snap.stanford.edu/biodata/datasets/10004/10004-DCh-Miner.html using Pandas.\n",
    "\n",
    "We could also add `DRUGBANK:` at the start of the Chemical ID to have valid CURIEs (namespace + identifier). But for some reason the apply lead Pandas to shuffle the rows, and consider the header as row! Even if the `print` shows that the header. This is a major bug in Pandas, be careful as it can easily lead to error in the data."
   ]
  },
  {
   "cell_type": "code",
   "execution_count": 2,
   "metadata": {},
   "outputs": [
    {
     "name": "stdout",
     "output_type": "stream",
     "text": [
      "       # Disease(MESH)          Chemical\n",
      "0         MESH:D005923  DRUGBANK:DB00564\n",
      "1         MESH:D009503  DRUGBANK:DB01072\n",
      "2         MESH:D016115  DRUGBANK:DB01759\n",
      "3         MESH:D018476  DRUGBANK:DB00451\n",
      "4         MESH:C567059  DRUGBANK:DB00641\n",
      "...                ...               ...\n",
      "466652    MESH:C565545  DRUGBANK:DB00482\n",
      "466653    MESH:D009164  DRUGBANK:DB00977\n",
      "466654    MESH:D010518  DRUGBANK:DB04216\n",
      "466655    MESH:D002653  DRUGBANK:DB02701\n",
      "466656    MESH:D013119  DRUGBANK:DB04465\n",
      "\n",
      "[466657 rows x 2 columns]\n"
     ]
    }
   ],
   "source": [
    "data = pd.read_csv('https://snap.stanford.edu/biodata/datasets/10004/files/DCh-Miner_miner-disease-chemical.tsv.gz', sep='\\t', header=0)\n",
    "# data[\"Chemical\"] = data[\"Chemical\"].apply (lambda row: 'DRUGBANK:' + row)\n",
    "print(data)\n",
    "data.to_csv('mined-disease-chemical-associations.csv', index=False, header=False)"
   ]
  },
  {
   "cell_type": "markdown",
   "metadata": {},
   "source": [
    "## Load the data in the database\n",
    "\n",
    "Connect to the MySQL database using the database Service name (chosen when starting the database), and create the table for drug-disease associations in the default database selected by postgres\n"
   ]
  },
  {
   "cell_type": "code",
   "execution_count": 3,
   "id": "atmospheric-fifty",
   "metadata": {},
   "outputs": [],
   "source": [
    "try: \n",
    "    conn.close()\n",
    "except:\n",
    "    print('No conn to close')\n",
    "conn = mysql.connect(\n",
    "    host='mysql-demo',\n",
    "    # host='localhost',\n",
    "    database='sampledb',\n",
    "    user='root',\n",
    "    password='favdbpass',\n",
    "    autocommit=True,\n",
    "    allow_local_infile=True)\n",
    "cursor = conn.cursor()\n",
    "cursor.execute(\"SET GLOBAL local_infile = 1;\")\n",
    "cursor.execute(\"SET GLOBAL max_allowed_packet=1073741824;\")\n",
    "cursor.execute(\"DROP TABLE IF EXISTS associations;\")\n",
    "cursor.execute(\"\"\"CREATE TABLE associations(\n",
    "   disease_id VARCHAR(255),\n",
    "   drug_id VARCHAR(255),\n",
    "   PRIMARY KEY (disease_id, drug_id)\n",
    ");\"\"\")"
   ]
  },
  {
   "cell_type": "markdown",
   "metadata": {},
   "source": [
    "Load the CSV file in the database `associations` table.\n",
    "\n",
    "It can also be done with Pandas (if the stars are properly aligned in the sky):\n",
    "\n",
    "```\n",
    "data.to_sql('associations', conn, if_exists='replace', index=False)\n",
    "```"
   ]
  },
  {
   "cell_type": "code",
   "execution_count": 5,
   "id": "weird-spine",
   "metadata": {},
   "outputs": [],
   "source": [
    "# You need to use absolute path\n",
    "\n",
    "cursor.execute(\"\"\"LOAD DATA LOCAL INFILE '/home/jovyan/dsri-demo/mined-disease-chemical-associations.csv'\n",
    "    INTO TABLE associations;\n",
    "\"\"\")"
   ]
  },
  {
   "cell_type": "code",
   "execution_count": 4,
   "metadata": {},
   "outputs": [],
   "source": [
    "## Or upload row by row\n",
    "# for i, row in data.iterrows():\n",
    "#     print(row['Chemical'])\n",
    "#     print(row['# Disease(MESH)'])\n",
    "#     cursor.execute (\"INSERT INTO associations (disease_id, chemical_id) VALUES ('\" + row['# Disease(MESH)'] + \"', '\" + row['Chemical'] + \"');\")\n",
    "#     break"
   ]
  },
  {
   "cell_type": "markdown",
   "metadata": {},
   "source": [
    "## Query the database\n",
    "\n",
    "You can now run a `SELECT` query:"
   ]
  },
  {
   "cell_type": "code",
   "execution_count": 6,
   "id": "multiple-tennis",
   "metadata": {
    "tags": []
   },
   "outputs": [
    {
     "name": "stdout",
     "output_type": "stream",
     "text": [
      "Number of associations in the database:\n",
      "(466657,)\n",
      "\n",
      "Sample of associations in the database:\n",
      "('MESH:D005923', 'DRUGBANK:DB00564')\n",
      "('MESH:D009503', 'DRUGBANK:DB01072')\n",
      "('MESH:D016115', 'DRUGBANK:DB01759')\n"
     ]
    }
   ],
   "source": [
    "print('Number of associations in the database:')\n",
    "cursor.execute('SELECT COUNT(*) FROM associations;')\n",
    "records = cursor.fetchall()\n",
    "for i in records:\n",
    "    print(i)\n",
    "print('\\nSample of associations in the database:')\n",
    "cursor.execute('SELECT disease_id, drug_id FROM associations LIMIT 3;')\n",
    "records = cursor.fetchall()\n",
    "for i in records:\n",
    "    print(i)\n",
    "conn.close()"
   ]
  },
  {
   "cell_type": "markdown",
   "metadata": {},
   "source": [
    "## What's next?\n",
    "\n",
    "* You can also connect to the MySQL database using the terminal:\n",
    "\n",
    "    ```\n",
    "    sudo apt install mysql\n",
    "    mysql -h mysql-demo -U root sampledb\n",
    "    ```\n",
    "* Setup a user interface to manage the database\n",
    "* Take a look into visualization tools to explore your database, such as Apache Superset."
   ]
  }
 ],
 "metadata": {
  "kernelspec": {
   "display_name": "Python 3",
   "language": "python",
   "name": "python3"
  },
  "language_info": {
   "codemirror_mode": {
    "name": "ipython",
    "version": 3
   },
   "file_extension": ".py",
   "mimetype": "text/x-python",
   "name": "python",
   "nbconvert_exporter": "python",
   "pygments_lexer": "ipython3",
   "version": "3.6.9-final"
  }
 },
 "nbformat": 4,
 "nbformat_minor": 5
}
